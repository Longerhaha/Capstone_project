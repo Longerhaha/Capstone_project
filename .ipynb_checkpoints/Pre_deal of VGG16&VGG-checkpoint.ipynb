{
 "cells": [
  {
   "cell_type": "code",
   "execution_count": 6,
   "metadata": {
    "collapsed": false
   },
   "outputs": [
    {
     "name": "stdout",
     "output_type": "stream",
     "text": [
      "Found 25000 images belonging to 2 classes.\n",
      "Found 12500 images belonging to 1 classes.\n",
      "<class 'numpy.ndarray'> (25000, 512)\n",
      "<class 'numpy.ndarray'> (12500, 512)\n",
      "Found 25000 images belonging to 2 classes.\n",
      "Found 12500 images belonging to 1 classes.\n",
      "<class 'numpy.ndarray'> (25000, 512)\n",
      "<class 'numpy.ndarray'> (12500, 512)\n",
      "one generator time is 717 s\n"
     ]
    }
   ],
   "source": [
    "from keras.models import *\n",
    "from keras.layers import *\n",
    "from keras.applications import *\n",
    "from keras.preprocessing.image import *\n",
    "\n",
    "root_src = 'D:\\Dogs vs. Cats'\n",
    "import os\n",
    "import shutil\n",
    "import time\n",
    "os.chdir(root_src)\n",
    "import numpy as np\n",
    "import h5py\n",
    "def write_gap(MODEL, image_size, lambda_func=None):\n",
    "    width = image_size[0]\n",
    "    height = image_size[1]\n",
    "    input_tensor = Input((height, width, 3))\n",
    "    x = input_tensor\n",
    "    if lambda_func:\n",
    "        x = Lambda(lambda_func)(x)\n",
    "    \n",
    "    base_model = MODEL(input_tensor=x, weights='imagenet', include_top=False)\n",
    "    model = Model(base_model.input, GlobalAveragePooling2D()(base_model.output))\n",
    "\n",
    "    gen = ImageDataGenerator()\n",
    "    train_generator = gen.flow_from_directory(\"train2\", image_size, shuffle=False, \n",
    "                                              batch_size=16)\n",
    "    test_generator = gen.flow_from_directory(\"test\", image_size, shuffle=False, \n",
    "                                             batch_size=16, class_mode=None)\n",
    "    train = model.predict_generator(train_generator, len(train_generator.filenames)/16)\n",
    "    test = model.predict_generator(test_generator, len(test_generator.filenames)/16)\n",
    "    print(type(train),train.shape) \n",
    "    print(type(test),test.shape) \n",
    "    with h5py.File(\"gap_%s.h5\"%(MODEL.__name__)) as h:\n",
    "        h.create_dataset(\"train\", data=train)\n",
    "        h.create_dataset(\"test\", data=test)\n",
    "        h.create_dataset(\"label\", data=train_generator.classes)\n",
    "        \n",
    "start = time.time()  \n",
    "write_gap(VGG16,(224,224))\n",
    "write_gap(VGG19,(224,224))\n",
    "\n",
    "end = time.time()\n",
    "print('one generator time is %d s'%round(end-start))"
   ]
  }
 ],
 "metadata": {
  "anaconda-cloud": {},
  "kernelspec": {
   "display_name": "Python [default]",
   "language": "python",
   "name": "python3"
  },
  "language_info": {
   "codemirror_mode": {
    "name": "ipython",
    "version": 3
   },
   "file_extension": ".py",
   "mimetype": "text/x-python",
   "name": "python",
   "nbconvert_exporter": "python",
   "pygments_lexer": "ipython3",
   "version": "3.5.2"
  }
 },
 "nbformat": 4,
 "nbformat_minor": 1
}
